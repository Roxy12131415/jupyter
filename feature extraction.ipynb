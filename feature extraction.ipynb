{
 "cells": [
  {
   "cell_type": "code",
   "execution_count": null,
   "metadata": {},
   "outputs": [],
   "source": [
    "import numpy as np\n",
    "import pandas as pd\n",
    "def log_tabel(data):\n",
    "    #分割出第几天和时间\n",
    "    data['hour'] = data.OCC_TIM.map(lambda x:x.hour)\n",
    "    data['day'] = data.OCC_TIM.map(lambda x:x.day)\n",
    "    #按照用户编号，统计每个用户的点击模块行为次数\n",
    "    EVT_LBL_len = data.groupby(by= ['USRID'], as_index = False)['EVT_LBL'].agg({'EVT_LBL_len':len})\n",
    "    #统计每个用户点击模块种类数 set 用来得到一个集合不包含重复项\n",
    "    EVT_LBL_set_len = data.groupby(by= ['USRID'], as_index = False)['EVT_LBL'].agg({'EVT_LBL_set_len':lambda x:len(set(x))})\n",
    "    #统计不同用户活跃天数\n",
    "    day_set_len = data.groupby(by= ['USRID'], as_index = False)['day'].agg({'day_sum':lambda x:len(set(x))})\n",
    "    #统计用户交互最多的一天的交互次数\n",
    "    sort_buy_day=data.groupby(by= ['USRID','day'], as_index = False).count()\n",
    "    user_maxday_count=sort_buy_day.groupby(by= ['USRID'], as_index = False)['EVT_LBL'].agg({'user_maxday_count':lambda x:max(set(x))})\n",
    "    #统计每个用户这一个月第一次交互到最后一次交互的间隔天数\n",
    "    Number_of_day_interval = data.groupby(by= ['USRID'], as_index = False)['day'].agg({'day_interval':lambda x:max(x)-min(x)})\n",
    "    #最后一次交互距离的天数\n",
    "    last_day_interval = pick2.groupby(by= ['USRID'], as_index = False)['day'].agg({'day_interval':lambda x:31-max(x)})\n",
    "    \n",
    "    return EVT_LBL_len,EVT_LBL_set_len,day_set_len,user_maxday_count,day_set_len,last_day_interval"
   ]
  },
  {
   "cell_type": "code",
   "execution_count": null,
   "metadata": {},
   "outputs": [],
   "source": [
    "if __name__ == '__main__':\n",
    "    train_agg = pd.read_csv('train/train_agg.csv',sep='\\t')\n",
    "    train_flg = pd.read_csv('train/train_flg.csv',sep='\\t')\n",
    "    train_log = pd.read_csv('train/train_log.csv',sep='\\t',parse_dates = ['OCC_TIM'])#parse_dates:这是指定含有时间数据信息的列。\n",
    "    \n",
    "    all_train = pd.merge(train_flg,train_agg,on=['USRID'],how='left')\n",
    "    EVT_LBL_len,EVT_LBL_set_len,day_set_len,user_maxday_count,day_set_len,last_day_interval = log_tabel(train_log)\n",
    "    "
   ]
  },
  {
   "cell_type": "code",
   "execution_count": null,
   "metadata": {},
   "outputs": [],
   "source": [
    "#我之前分割好的csv  缺失了，，excel只能显示一万多,不可用\n",
    "#train_log1 = pd.DataFrame(pd.read_csv('train/train_log2.csv',parse_dates = ['OCC_TIM'])).sort_values(['USRID'],ascending=True)\n",
    "#train_log1[train_log1['USRID']== 2] #train_log1.sort_values(by='USRID',axis=1)\n",
    "#train_log1"
   ]
  },
  {
   "cell_type": "code",
   "execution_count": null,
   "metadata": {},
   "outputs": [],
   "source": [
    "#筛选出指定用户编号为2的用户数据\n",
    "pick1=train_log[train_log['USRID']== 2 ]\n",
    "pick2=train_log[:20 ]\n",
    "pick2\n",
    "#set(pick['EVT_LBL'])"
   ]
  },
  {
   "cell_type": "code",
   "execution_count": null,
   "metadata": {},
   "outputs": [],
   "source": [
    "#看看flg有没有重复值，\n",
    "train_flg.sort_values(by=\"USRID\")\n",
    "train_flg.groupby(by= ['USRID'], as_index = False).count().agg('max')"
   ]
  },
  {
   "cell_type": "code",
   "execution_count": null,
   "metadata": {
    "scrolled": true
   },
   "outputs": [],
   "source": []
  },
  {
   "cell_type": "code",
   "execution_count": null,
   "metadata": {},
   "outputs": [],
   "source": [
    "#只取两列的做法双层括号\n",
    "k=a[['USRID','EVT_LBL','day']]"
   ]
  }
 ],
 "metadata": {
  "kernelspec": {
   "display_name": "Python 3",
   "language": "python",
   "name": "python3"
  },
  "language_info": {
   "codemirror_mode": {
    "name": "ipython",
    "version": 3
   },
   "file_extension": ".py",
   "mimetype": "text/x-python",
   "name": "python",
   "nbconvert_exporter": "python",
   "pygments_lexer": "ipython3",
   "version": "3.6.4"
  }
 },
 "nbformat": 4,
 "nbformat_minor": 2
}
